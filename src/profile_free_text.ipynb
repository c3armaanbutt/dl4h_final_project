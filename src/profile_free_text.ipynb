{
 "cells": [
  {
   "cell_type": "code",
   "execution_count": 1,
   "id": "f366cfe4",
   "metadata": {},
   "outputs": [],
   "source": [
    "import pandas as pd\n",
    "import numpy as np\n",
    "\n",
    "import seaborn as sns\n",
    "import matplotlib.pyplot as plt\n",
    "\n",
    "\n",
    "from sklearn.preprocessing import LabelEncoder\n",
    "from sklearn.feature_extraction.text import CountVectorizer, TfidfVectorizer\n",
    "\n",
    "np.random.seed(500)"
   ]
  },
  {
   "cell_type": "code",
   "execution_count": null,
   "id": "a76a061a",
   "metadata": {},
   "outputs": [],
   "source": []
  },
  {
   "cell_type": "code",
   "execution_count": 16,
   "id": "1859765d",
   "metadata": {},
   "outputs": [],
   "source": [
    "df = pd.read_csv('../data/processed/NOTE_EVENTS_WITH_DRUGS.csv', dtype=str)\n",
    "# df.head()"
   ]
  },
  {
   "cell_type": "code",
   "execution_count": 3,
   "id": "261d982f",
   "metadata": {},
   "outputs": [
    {
     "name": "stdout",
     "output_type": "stream",
     "text": [
      "<class 'pandas.core.frame.DataFrame'>\n",
      "RangeIndex: 50000 entries, 0 to 49999\n",
      "Data columns (total 13 columns):\n",
      " #   Column         Non-Null Count  Dtype \n",
      "---  ------         --------------  ----- \n",
      " 0   ROW_ID         50000 non-null  object\n",
      " 1   SUBJECT_ID     50000 non-null  object\n",
      " 2   HADM_ID        50000 non-null  object\n",
      " 3   CHARTDATE      50000 non-null  object\n",
      " 4   CHARTTIME      0 non-null      object\n",
      " 5   STORETIME      0 non-null      object\n",
      " 6   CATEGORY       50000 non-null  object\n",
      " 7   DESCRIPTION    50000 non-null  object\n",
      " 8   CGID           0 non-null      object\n",
      " 9   ISERROR        0 non-null      object\n",
      " 10  TEXT           50000 non-null  object\n",
      " 11  CLEAN_TEXT     50000 non-null  object\n",
      " 12  DRUGS_PRESENT  48589 non-null  object\n",
      "dtypes: object(13)\n",
      "memory usage: 5.0+ MB\n"
     ]
    }
   ],
   "source": [
    "df.info()"
   ]
  },
  {
   "cell_type": "code",
   "execution_count": 4,
   "id": "447033f7",
   "metadata": {},
   "outputs": [],
   "source": [
    "\n",
    "free_text = df['CLEAN_TEXT']"
   ]
  },
  {
   "cell_type": "markdown",
   "id": "8253c8a8",
   "metadata": {},
   "source": [
    "### Drug Type"
   ]
  },
  {
   "cell_type": "code",
   "execution_count": 5,
   "id": "fa0a02f5",
   "metadata": {},
   "outputs": [],
   "source": [
    "tfidf_vectorizer = TfidfVectorizer()\n",
    "X_tfidf = tfidf_vectorizer.fit_transform(free_text)"
   ]
  },
  {
   "cell_type": "code",
   "execution_count": 6,
   "id": "967d5c61",
   "metadata": {},
   "outputs": [],
   "source": [
    "count_vectorizer = CountVectorizer()\n",
    "X_count = count_vectorizer.fit_transform(free_text)"
   ]
  },
  {
   "cell_type": "markdown",
   "id": "8f74d3e0",
   "metadata": {},
   "source": [
    "### Top 10 Prescribed Routes"
   ]
  },
  {
   "cell_type": "code",
   "execution_count": 7,
   "id": "214ae25b",
   "metadata": {},
   "outputs": [],
   "source": [
    "sum_words = X_count.sum(axis=0)\n",
    "\n",
    "words_freq = [[word, sum_words[0, idx]] for word, idx in count_vectorizer.vocabulary_.items()]\n",
    "\n",
    "words_freq =sorted(words_freq, key = lambda x: x[1], reverse=True)\n",
    "\n",
    "# freqs[:, 0] = c_features\n",
    "# freqs[:, 1] = X_count.sum(axis=0)\n"
   ]
  },
  {
   "cell_type": "code",
   "execution_count": 8,
   "id": "ab138c61",
   "metadata": {},
   "outputs": [],
   "source": [
    "df = pd.DataFrame.from_records(words_freq, columns=['word', 'corpus_count'])"
   ]
  },
  {
   "cell_type": "code",
   "execution_count": 12,
   "id": "2db6c9de",
   "metadata": {},
   "outputs": [],
   "source": [
    "temp_df = df.head(10)"
   ]
  },
  {
   "cell_type": "code",
   "execution_count": 13,
   "id": "7a1987ba",
   "metadata": {},
   "outputs": [
    {
     "data": {
      "text/html": [
       "<div>\n",
       "<style scoped>\n",
       "    .dataframe tbody tr th:only-of-type {\n",
       "        vertical-align: middle;\n",
       "    }\n",
       "\n",
       "    .dataframe tbody tr th {\n",
       "        vertical-align: top;\n",
       "    }\n",
       "\n",
       "    .dataframe thead th {\n",
       "        text-align: right;\n",
       "    }\n",
       "</style>\n",
       "<table border=\"1\" class=\"dataframe\">\n",
       "  <thead>\n",
       "    <tr style=\"text-align: right;\">\n",
       "      <th></th>\n",
       "      <th>word</th>\n",
       "      <th>corpus_count</th>\n",
       "    </tr>\n",
       "  </thead>\n",
       "  <tbody>\n",
       "    <tr>\n",
       "      <th>0</th>\n",
       "      <td>tablet</td>\n",
       "      <td>521939</td>\n",
       "    </tr>\n",
       "    <tr>\n",
       "      <th>1</th>\n",
       "      <td>patient</td>\n",
       "      <td>501926</td>\n",
       "    </tr>\n",
       "    <tr>\n",
       "      <th>2</th>\n",
       "      <td>mg</td>\n",
       "      <td>500115</td>\n",
       "    </tr>\n",
       "    <tr>\n",
       "      <th>3</th>\n",
       "      <td>po</td>\n",
       "      <td>432901</td>\n",
       "    </tr>\n",
       "    <tr>\n",
       "      <th>4</th>\n",
       "      <td>blood</td>\n",
       "      <td>390432</td>\n",
       "    </tr>\n",
       "  </tbody>\n",
       "</table>\n",
       "</div>"
      ],
      "text/plain": [
       "      word  corpus_count\n",
       "0   tablet        521939\n",
       "1  patient        501926\n",
       "2       mg        500115\n",
       "3       po        432901\n",
       "4    blood        390432"
      ]
     },
     "execution_count": 13,
     "metadata": {},
     "output_type": "execute_result"
    }
   ],
   "source": [
    "temp_df.head()"
   ]
  },
  {
   "cell_type": "markdown",
   "id": "903c9bd0",
   "metadata": {},
   "source": [
    "### Top 10 Word & Count"
   ]
  },
  {
   "cell_type": "code",
   "execution_count": 15,
   "id": "5f8bd554",
   "metadata": {},
   "outputs": [
    {
     "data": {
      "image/png": "[encoded data removed]",
      "text/plain": [
       "<Figure size 432x288 with 1 Axes>"
      ]
     },
     "metadata": {
      "needs_background": "light"
     },
     "output_type": "display_data"
    }
   ],
   "source": [
    "# sns.countplot(route_count)\n",
    "sns.barplot(y='word', x = 'corpus_count', data=temp_df)\n",
    "plt.show()"
   ]
  },
  {
   "cell_type": "markdown",
   "id": "fa664e15",
   "metadata": {},
   "source": [
    "### Conclusion:"
   ]
  },
  {
   "cell_type": "markdown",
   "id": "b3e497ed",
   "metadata": {},
   "source": [
    "- The words with most count corpus are general words such as 'tablet', 'patient' etc\n",
    "- These words would cause the model overfit due it's high weights.\n",
    "- Current classification problem is not an ideal application for Count vectorizer"
   ]
  },
  {
   "cell_type": "code",
   "execution_count": null,
   "id": "4558c582",
   "metadata": {},
   "outputs": [],
   "source": []
  }
 ],
 "metadata": {
  "kernelspec": {
   "display_name": "Python 3",
   "language": "python",
   "name": "python3"
  },
  "language_info": {
   "codemirror_mode": {
    "name": "ipython",
    "version": 3
   },
   "file_extension": ".py",
   "mimetype": "text/x-python",
   "name": "python",
   "nbconvert_exporter": "python",
   "pygments_lexer": "ipython3",
   "version": "3.6.2"
  }
 },
 "nbformat": 4,
 "nbformat_minor": 5
}
