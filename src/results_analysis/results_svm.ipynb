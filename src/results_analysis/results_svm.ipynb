{
 "cells": [
  {
   "cell_type": "code",
   "execution_count": null,
   "id": "7d23d64d",
   "metadata": {},
   "outputs": [],
   "source": [
    "import pandas as pd\n",
    "\n",
    "import seaborn as sns\n",
    "import matplotlib.pyplot as plt\n"
   ]
  },
  {
   "cell_type": "code",
   "execution_count": null,
   "id": "f5e27e28",
   "metadata": {},
   "outputs": [],
   "source": [
    "df = pd.read_csv('../../data/results/SVM_results.csv', dtype=str)\n",
    "df['NDC'] = df['NDC'].astype('category')\n",
    "df['Accuracy'] = df['Accuracy'].astype('float')\n",
    "df['Precision'] = df['Precision'].astype('float')\n",
    "df['Recall'] = df['Recall'].astype('float')\n"
   ]
  },
  {
   "cell_type": "code",
   "execution_count": null,
   "id": "7e40064c",
   "metadata": {},
   "outputs": [],
   "source": [
    "# plot_order = df.sort_values(by='NDC', ascending=False).NDC.values\n",
    "\n",
    "a_plot = sns.lineplot(x='NDC',\n",
    "                      y='Accuracy',\n",
    "                      data=df)\n",
    "\n",
    "a_plot.set_xticklabels(df['NDC'], rotation=45)\n",
    "\n",
    "plt.figure(figsize=(40, 40))\n",
    "\n",
    "# a_plot.refline(x=df.Accuracy.mean(), color='red')\n",
    "a_plot.axhline(y=df.Accuracy.mean(), color='red', linestyle='--')\n",
    "plt.show()\n"
   ]
  }
 ],
 "metadata": {
  "kernelspec": {
   "display_name": "Python 3",
   "language": "python",
   "name": "python3"
  },
  "language_info": {
   "codemirror_mode": {
    "name": "ipython",
    "version": 3
   },
   "file_extension": ".py",
   "mimetype": "text/x-python",
   "name": "python",
   "nbconvert_exporter": "python",
   "pygments_lexer": "ipython3",
   "version": "3.6.2"
  }
 },
 "nbformat": 4,
 "nbformat_minor": 5
}
