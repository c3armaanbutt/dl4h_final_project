{
 "cells": [
  {
   "cell_type": "markdown",
   "metadata": {},
   "source": [
    "# Data Exploration and Data Prep\n",
    "\n",
    "## Import Libraries"
   ]
  },
  {
   "cell_type": "code",
   "execution_count": null,
   "metadata": {},
   "outputs": [],
   "source": [
    "import pandas as pd\n",
    "import numpy as np\n",
    "import re\n",
    "import csv\n",
    "import string\n",
    "import nltk\n",
    "\n",
    "from nltk.corpus import stopwords\n",
    "from nltk.tokenize import word_tokenize\n",
    "\n",
    "nltk.download('stopwords')\n",
    "nltk.download('punkt')\n",
    "np.random.seed(500)"
   ]
  },
  {
   "cell_type": "markdown",
   "metadata": {},
   "source": [
    "## Data Load MIMIC-III\n",
    "Load in `PRESCRIPTIONS` and `NOTEEVENTS` csvs into pandas dataframe."
   ]
  },
  {
   "cell_type": "code",
   "execution_count": null,
   "metadata": {},
   "outputs": [],
   "source": [
    "df_prescriptions = pd.read_csv('../data/real-mimic-iii-database/PRESCRIPTIONS.csv', dtype=str)\n",
    "df_noteevents = pd.read_csv('../data/real-mimic-iii-database/NOTEEVENTS.csv', dtype=str)"
   ]
  },
  {
   "cell_type": "markdown",
   "metadata": {},
   "source": [
    "## Data Exploration\n",
    "\n",
    "### Find most frequent prescriptions"
   ]
  },
  {
   "cell_type": "code",
   "execution_count": null,
   "metadata": {},
   "outputs": [],
   "source": [
    "df_most_frequent_prescriptions = df_prescriptions[['ROW_ID', 'NDC']][df_prescriptions['NDC'] != '0'].groupby('NDC').count().sort_values('ROW_ID',ascending=False)"
   ]
  },
  {
   "cell_type": "code",
   "execution_count": null,
   "metadata": {},
   "outputs": [],
   "source": [
    "# Use only top 20 for now.\n",
    "df_most_frequent_prescriptions = df_most_frequent_prescriptions.head(20)\n",
    "df_most_frequent_prescriptions = df_most_frequent_prescriptions.reset_index()"
   ]
  },
  {
   "cell_type": "code",
   "execution_count": null,
   "metadata": {},
   "outputs": [],
   "source": [
    "# Get Drug Names From Most Freq NDCs\n",
    "df_most_frequent_prescriptions = df_most_frequent_prescriptions.rename(columns={'ROW_ID': 'FREQ'})\n",
    "list_most_freq_prescription_ndcs = df_most_frequent_prescriptions['NDC'].to_list()\n",
    "dict_most_freq_prescription_ndcs = df_prescriptions[df_prescriptions['NDC'].isin(list_most_freq_prescription_ndcs)][['NDC', 'DRUG']].groupby('DRUG').max().reset_index().to_dict(orient='records')"
   ]
  },
  {
   "cell_type": "code",
   "execution_count": null,
   "metadata": {},
   "outputs": [],
   "source": [
    "ndc_to_drug_names = {}\n",
    "\n",
    "for record in dict_most_freq_prescription_ndcs:\n",
    "    drug, ndc = record['DRUG'], record['NDC']\n",
    "    if ndc not in ndc_to_drug_names:\n",
    "        ndc_to_drug_names[ndc] = []\n",
    "\n",
    "    # Remove non alpha numeric characters and make lowercase\n",
    "    drug = re.sub('[^A-Za-z0-9]+', '', drug)\n",
    "    drug = drug.lower()    \n",
    "    ndc_to_drug_names[ndc].append(drug)\n",
    "\n",
    "ndc_to_drug_names"
   ]
  },
  {
   "cell_type": "code",
   "execution_count": null,
   "metadata": {},
   "outputs": [],
   "source": [
    "df_noteevents_sample_insulin = df_noteevents.head(10000)[df_noteevents['TEXT'].str.contains(\"insulin\") == True]"
   ]
  },
  {
   "cell_type": "code",
   "execution_count": null,
   "metadata": {},
   "outputs": [],
   "source": [
    "def clean_up_text(text):\n",
    "    stopset = set(stopwords.words('english') + list(string.punctuation))\n",
    "    tokens = word_tokenize(text.lower())\n",
    "    return [re.sub('[^A-Za-z0-9]+', '', i) for i in tokens if i not in stopset]\n",
    "\n",
    "df_noteevents_sample_insulin['TEXT_NORMALIZED'] = df_noteevents_sample_insulin['TEXT'].apply(clean_up_text)\n",
    "df_noteevents_sample_insulin.head()"
   ]
  },
  {
   "cell_type": "code",
   "execution_count": null,
   "metadata": {},
   "outputs": [],
   "source": [
    "# Save new dataframe with `Text_NORMALIZED` - Done\n",
    "# Loop over NDC codes and find `TEXT_NORMALIZED` with drug names\n",
    "# Save to dataframe with ROW_ID, TEXT_NORMALIZED, NDC\n",
    "\n",
    "test_ndc = '00088222033'\n",
    "drug_name = 'insulin'\n",
    "\n",
    "def extract_text_subset(text_normalized=[]):\n",
    "    idx = 0\n",
    "    for i in range(len(text_normalized)):\n",
    "        if drug_name in text_normalized[i]:\n",
    "            idx = i\n",
    "            break\n",
    "    subset_left = \"\".join(text_normalized[idx - 10: idx])\n",
    "    subset_right = \"\".join(text_normalized[idx + 1: idx + 10])\n",
    "    return subset_left[-20:] + drug_name + subset_right[:20]\n",
    "\n",
    "df_noteevents_sample_insulin['DRUG_ORDER_TEXT'] = df_noteevents_sample_insulin['TEXT_NORMALIZED'].apply(extract_text_subset)\n",
    "df_noteevents_sample_insulin['NDC'] = test_ndc\n",
    "df_noteevents_sample_insulin.head()"
   ]
  },
  {
   "cell_type": "code",
   "execution_count": null,
   "metadata": {},
   "outputs": [],
   "source": [
    "df_noteevents_sample_insulin.tail()"
   ]
  },
  {
   "cell_type": "code",
   "execution_count": null,
   "metadata": {},
   "outputs": [],
   "source": [
    "df_noteevents['ROW_ID'] = df_noteevents['ROW_ID'].astype('int')\n",
    "df_noteevents_without_insulin = df_noteevents[df_noteevents['ROW_ID'] > 7956].head(3000)"
   ]
  },
  {
   "cell_type": "code",
   "execution_count": null,
   "metadata": {},
   "outputs": [],
   "source": [
    "df_noteevents_without_insulin['TEXT_NORMALIZED'] = df_noteevents_without_insulin['TEXT'].apply(clean_up_text)"
   ]
  },
  {
   "cell_type": "code",
   "execution_count": null,
   "metadata": {},
   "outputs": [],
   "source": [
    "def extract_text_subset_random(text_normalized=[]):\n",
    "    idx = 50\n",
    "    subset = text_normalized[idx - 10: idx + 10]\n",
    "    subset_left = \"\".join(text_normalized[idx - 10: idx])\n",
    "    subset_right = \"\".join(text_normalized[idx + 1: idx + 10])\n",
    "    return subset_left[-20:] + subset_right[:20 + len(drug_name)]\n",
    "    return \"\".join(subset)\n",
    "\n",
    "df_noteevents_without_insulin['DRUG_ORDER_TEXT'] = df_noteevents_without_insulin['TEXT_NORMALIZED'].apply(extract_text_subset_random)\n",
    "df_noteevents_without_insulin['NDC'] = '0'\n",
    "df_noteevents_without_insulin.head()"
   ]
  },
  {
   "cell_type": "code",
   "execution_count": null,
   "metadata": {},
   "outputs": [],
   "source": [
    "df_feature = pd.concat([df_noteevents_sample_insulin[['DRUG_ORDER_TEXT', 'NDC']],df_noteevents_without_insulin[['DRUG_ORDER_TEXT', 'NDC']]])"
   ]
  },
  {
   "cell_type": "code",
   "execution_count": null,
   "metadata": {},
   "outputs": [],
   "source": [
    "df_feature.to_csv('../data/processed/FEATURE_INSULIN_SAMPLE.csv', index=False, quoting=csv.QUOTE_ALL, quotechar='\"')"
   ]
  },
  {
   "cell_type": "code",
   "execution_count": null,
   "metadata": {},
   "outputs": [],
   "source": []
  }
 ],
 "metadata": {
  "interpreter": {
   "hash": "6231efa94fcc6965469f69099951888d2cda7161d9d213b37b7401168f91864c"
  },
  "kernelspec": {
   "display_name": "Python 3.9.7 64-bit ('3.9.7')",
   "language": "python",
   "name": "python3"
  },
  "language_info": {
   "codemirror_mode": {
    "name": "ipython",
    "version": 3
   },
   "file_extension": ".py",
   "mimetype": "text/x-python",
   "name": "python",
   "nbconvert_exporter": "python",
   "pygments_lexer": "ipython3",
   "version": "3.9.7"
  },
  "orig_nbformat": 4
 },
 "nbformat": 4,
 "nbformat_minor": 2
}
