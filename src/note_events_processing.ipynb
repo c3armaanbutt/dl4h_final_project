{
 "cells": [
  {
   "cell_type": "code",
   "execution_count": 2,
   "metadata": {},
   "outputs": [
    {
     "name": "stdout",
     "output_type": "stream",
     "text": [
      "INFO: Pandarallel will run on 8 workers.\n",
      "INFO: Pandarallel will use standard multiprocessing data transfer (pipe) to transfer data between the main process and workers.\n"
     ]
    }
   ],
   "source": [
    "from pandarallel import pandarallel\n",
    "import pandas as pd\n",
    "import numpy as np\n",
    "import csv\n",
    "import re\n",
    "\n",
    "np.random.seed(500)\n",
    "pandarallel.initialize()"
   ]
  },
  {
   "cell_type": "code",
   "execution_count": 3,
   "metadata": {},
   "outputs": [],
   "source": [
    "df = pd.read_csv('../data/real-mimic-iii-database/NOTEEVENTS.csv', dtype=object)\n",
    "\n",
    "df[['TEXT']].to_csv('../data/processed/NOTEEVENTS_TEXT_ONLY.csv', encoding='utf-8', quotechar='\"', quoting=csv.QUOTE_ALL, index=False)"
   ]
  },
  {
   "cell_type": "code",
   "execution_count": 3,
   "metadata": {},
   "outputs": [],
   "source": [
    "df_notes = pd.read_csv('../data/processed/NOTEEVENTS_TEXT_ONLY.csv', dtype=object)"
   ]
  },
  {
   "cell_type": "code",
   "execution_count": 6,
   "metadata": {},
   "outputs": [],
   "source": [
    "from nltk.corpus import stopwords\n",
    "english_stopwords = set(stopwords.words('english'))"
   ]
  },
  {
   "cell_type": "code",
   "execution_count": 7,
   "metadata": {},
   "outputs": [],
   "source": [
    "def element_exists(x):\n",
    "        return x\n",
    "\n",
    "def normalize_text(x):\n",
    "    # Make text lower case and remove non alpha and space characters.\n",
    "    lower_alpha_with_space = re.sub('[^a-z ]+', '', x.lower()).strip()\n",
    "    # Split on space\n",
    "    word_arr = lower_alpha_with_space.split(' ')\n",
    "    # Remove stop words\n",
    "    word_arr = [word for word in word_arr if not word in english_stopwords]\n",
    "    # Remove nulls from word array\n",
    "    return list(filter(element_exists, word_arr))\n"
   ]
  },
  {
   "cell_type": "code",
   "execution_count": 8,
   "metadata": {},
   "outputs": [],
   "source": [
    "df_notes['TEXT_NORMALIZED_ARRAY'] = df_notes['TEXT'].parallel_apply(normalize_text)"
   ]
  },
  {
   "cell_type": "code",
   "execution_count": 9,
   "metadata": {},
   "outputs": [
    {
     "data": {
      "text/html": [
       "<div>\n",
       "<style scoped>\n",
       "    .dataframe tbody tr th:only-of-type {\n",
       "        vertical-align: middle;\n",
       "    }\n",
       "\n",
       "    .dataframe tbody tr th {\n",
       "        vertical-align: top;\n",
       "    }\n",
       "\n",
       "    .dataframe thead th {\n",
       "        text-align: right;\n",
       "    }\n",
       "</style>\n",
       "<table border=\"1\" class=\"dataframe\">\n",
       "  <thead>\n",
       "    <tr style=\"text-align: right;\">\n",
       "      <th></th>\n",
       "      <th>TEXT_NORMALIZED_ARRAY</th>\n",
       "    </tr>\n",
       "  </thead>\n",
       "  <tbody>\n",
       "    <tr>\n",
       "      <th>0</th>\n",
       "      <td>[admission, date, discharge, date, serviceadde...</td>\n",
       "    </tr>\n",
       "    <tr>\n",
       "      <th>1</th>\n",
       "      <td>[admission, date, discharge, date, date, birth...</td>\n",
       "    </tr>\n",
       "    <tr>\n",
       "      <th>2</th>\n",
       "      <td>[admission, date, discharge, date, service, ca...</td>\n",
       "    </tr>\n",
       "    <tr>\n",
       "      <th>3</th>\n",
       "      <td>[admission, date, discharge, date, service, me...</td>\n",
       "    </tr>\n",
       "    <tr>\n",
       "      <th>4</th>\n",
       "      <td>[admission, date, discharge, date, date, birth...</td>\n",
       "    </tr>\n",
       "  </tbody>\n",
       "</table>\n",
       "</div>"
      ],
      "text/plain": [
       "                               TEXT_NORMALIZED_ARRAY\n",
       "0  [admission, date, discharge, date, serviceadde...\n",
       "1  [admission, date, discharge, date, date, birth...\n",
       "2  [admission, date, discharge, date, service, ca...\n",
       "3  [admission, date, discharge, date, service, me...\n",
       "4  [admission, date, discharge, date, date, birth..."
      ]
     },
     "execution_count": 9,
     "metadata": {},
     "output_type": "execute_result"
    }
   ],
   "source": [
    "df_notes[['TEXT_NORMALIZED_ARRAY']].head()"
   ]
  },
  {
   "cell_type": "code",
   "execution_count": 10,
   "metadata": {},
   "outputs": [],
   "source": [
    "df_ndc_codes = pd.read_csv('../data/processed/ndc_codes_extracted.csv')"
   ]
  },
  {
   "cell_type": "code",
   "execution_count": 15,
   "metadata": {},
   "outputs": [],
   "source": [
    "df_ndc_codes['DRUG_NAME_ARRAY'] = df_ndc_codes['DRUG_NORMALIZED'].apply(lambda x: list(filter(element_exists, x.split(' '))))"
   ]
  },
  {
   "cell_type": "code",
   "execution_count": 34,
   "metadata": {},
   "outputs": [],
   "source": [
    "num_classes = len(df_ndc_codes['NDC'])\n",
    "\n",
    "ndc_codes_dict = df_ndc_codes[['DRUG_NAME_ARRAY', 'NDC']].to_dict(orient='records')\n",
    "\n",
    "ndc_codes = list(map(lambda x: x['NDC'], ndc_codes_dict))\n",
    "drug_name_array = list(map(lambda x: set(x['DRUG_NAME_ARRAY']), ndc_codes_dict))"
   ]
  },
  {
   "cell_type": "code",
   "execution_count": 45,
   "metadata": {},
   "outputs": [
    {
     "data": {
      "text/plain": [
       "set()"
      ]
     },
     "execution_count": 45,
     "metadata": {},
     "output_type": "execute_result"
    }
   ],
   "source": [
    "set(df_notes['TEXT_NORMALIZED_ARRAY'][0]).intersection(drug_name_array[5])"
   ]
  },
  {
   "cell_type": "code",
   "execution_count": 48,
   "metadata": {},
   "outputs": [],
   "source": [
    "def determine_labels(text_array):\n",
    "    text_set = set(text_array)\n",
    "\n",
    "    labels = [0] * num_classes\n",
    "\n",
    "    for i in range(num_classes):\n",
    "        drug_name_set = drug_name_array[i]\n",
    "\n",
    "        if len(text_set.intersection(drug_name_set)) > 0:\n",
    "            labels[i] = 1\n",
    "\n",
    "    return labels\n",
    "\n",
    "df_notes['LABELS'] = df_notes['TEXT_NORMALIZED_ARRAY'].parallel_apply(determine_labels)"
   ]
  },
  {
   "cell_type": "code",
   "execution_count": 51,
   "metadata": {},
   "outputs": [
    {
     "data": {
      "text/plain": [
       "0          [0, 0, 0, 0, 0, 0, 0, 0, 0, 0, 0, 0, 0, 0, 0, ...\n",
       "1          [1, 1, 0, 0, 0, 0, 0, 1, 0, 1, 0, 0, 1, 0, 0, ...\n",
       "2          [1, 1, 0, 1, 0, 0, 0, 1, 0, 0, 1, 0, 1, 1, 0, ...\n",
       "3          [0, 1, 1, 0, 0, 1, 0, 0, 0, 1, 1, 1, 1, 1, 0, ...\n",
       "4          [0, 1, 0, 0, 0, 0, 0, 0, 0, 0, 1, 0, 0, 1, 0, ...\n",
       "                                 ...                        \n",
       "2083175    [0, 0, 0, 0, 0, 0, 0, 0, 0, 0, 0, 0, 0, 0, 0, ...\n",
       "2083176    [0, 0, 0, 0, 0, 0, 0, 0, 0, 0, 0, 0, 0, 0, 0, ...\n",
       "2083177    [0, 0, 0, 0, 0, 0, 0, 0, 0, 0, 0, 0, 0, 0, 0, ...\n",
       "2083178    [0, 0, 0, 0, 0, 0, 0, 0, 0, 0, 0, 0, 0, 0, 0, ...\n",
       "2083179    [0, 0, 0, 0, 0, 0, 0, 0, 0, 0, 0, 0, 0, 0, 0, ...\n",
       "Name: LABELS, Length: 2083180, dtype: object"
      ]
     },
     "execution_count": 51,
     "metadata": {},
     "output_type": "execute_result"
    }
   ],
   "source": [
    "df_notes['LABELS']"
   ]
  },
  {
   "cell_type": "code",
   "execution_count": 50,
   "metadata": {},
   "outputs": [],
   "source": [
    "df_notes.to_csv('../data/processed/NOTEEVENTS_WITH_LABELS.csv', encoding='utf-8', quotechar='\"', quoting=csv.QUOTE_ALL, index=False)"
   ]
  },
  {
   "cell_type": "code",
   "execution_count": 55,
   "metadata": {},
   "outputs": [],
   "source": [
    "def contains_one_true_class(labels):\n",
    "    if max(labels) == 1:\n",
    "        return True\n",
    "    else :\n",
    "        return False\n",
    "\n",
    "df_notes['CONTAINS_ONE_TRUE_CLASS']= df_notes['LABELS'].parallel_apply(contains_one_true_class)"
   ]
  },
  {
   "cell_type": "code",
   "execution_count": 63,
   "metadata": {},
   "outputs": [],
   "source": [
    "def join_text_array(text_array):\n",
    "    return \"\".join(text_array)\n",
    "\n",
    "df_notes['TEXT_NORMALIZED_JOINED'] = df_notes['TEXT_NORMALIZED_ARRAY'].apply(join_text_array)"
   ]
  },
  {
   "cell_type": "code",
   "execution_count": 64,
   "metadata": {},
   "outputs": [
    {
     "data": {
      "text/html": [
       "<div>\n",
       "<style scoped>\n",
       "    .dataframe tbody tr th:only-of-type {\n",
       "        vertical-align: middle;\n",
       "    }\n",
       "\n",
       "    .dataframe tbody tr th {\n",
       "        vertical-align: top;\n",
       "    }\n",
       "\n",
       "    .dataframe thead th {\n",
       "        text-align: right;\n",
       "    }\n",
       "</style>\n",
       "<table border=\"1\" class=\"dataframe\">\n",
       "  <thead>\n",
       "    <tr style=\"text-align: right;\">\n",
       "      <th></th>\n",
       "      <th>TEXT</th>\n",
       "      <th>TEXT_NORMALIZED_ARRAY</th>\n",
       "      <th>LABELS</th>\n",
       "      <th>CONTAINS_ONE_TRUE_CLASS</th>\n",
       "      <th>TEXT_NORMALIZED_JOINED</th>\n",
       "    </tr>\n",
       "  </thead>\n",
       "  <tbody>\n",
       "    <tr>\n",
       "      <th>1</th>\n",
       "      <td>Admission Date:  [**2118-6-2**]       Discharg...</td>\n",
       "      <td>[admission, date, discharge, date, date, birth...</td>\n",
       "      <td>[1, 1, 0, 0, 0, 0, 0, 1, 0, 1, 0, 0, 1, 0, 0, ...</td>\n",
       "      <td>True</td>\n",
       "      <td>admissiondatedischargedatedatebirthsexfservice...</td>\n",
       "    </tr>\n",
       "    <tr>\n",
       "      <th>2</th>\n",
       "      <td>Admission Date:  [**2119-5-4**]              D...</td>\n",
       "      <td>[admission, date, discharge, date, service, ca...</td>\n",
       "      <td>[1, 1, 0, 1, 0, 0, 0, 1, 0, 0, 1, 0, 1, 1, 0, ...</td>\n",
       "      <td>True</td>\n",
       "      <td>admissiondatedischargedateservicecardiothoraci...</td>\n",
       "    </tr>\n",
       "    <tr>\n",
       "      <th>3</th>\n",
       "      <td>Admission Date:  [**2124-7-21**]              ...</td>\n",
       "      <td>[admission, date, discharge, date, service, me...</td>\n",
       "      <td>[0, 1, 1, 0, 0, 1, 0, 0, 0, 1, 1, 1, 1, 1, 0, ...</td>\n",
       "      <td>True</td>\n",
       "      <td>admissiondatedischargedateservicemedicinealler...</td>\n",
       "    </tr>\n",
       "    <tr>\n",
       "      <th>4</th>\n",
       "      <td>Admission Date:  [**2162-3-3**]              D...</td>\n",
       "      <td>[admission, date, discharge, date, date, birth...</td>\n",
       "      <td>[0, 1, 0, 0, 0, 0, 0, 0, 0, 0, 1, 0, 0, 1, 0, ...</td>\n",
       "      <td>True</td>\n",
       "      <td>admissiondatedischargedatedatebirthsexmservice...</td>\n",
       "    </tr>\n",
       "    <tr>\n",
       "      <th>5</th>\n",
       "      <td>Admission Date:  [**2172-3-5**]              D...</td>\n",
       "      <td>[admission, date, discharge, date, date, birth...</td>\n",
       "      <td>[0, 0, 0, 1, 0, 0, 0, 0, 0, 0, 0, 0, 0, 0, 0, ...</td>\n",
       "      <td>True</td>\n",
       "      <td>admissiondatedischargedatedatebirthsexfservice...</td>\n",
       "    </tr>\n",
       "  </tbody>\n",
       "</table>\n",
       "</div>"
      ],
      "text/plain": [
       "                                                TEXT  \\\n",
       "1  Admission Date:  [**2118-6-2**]       Discharg...   \n",
       "2  Admission Date:  [**2119-5-4**]              D...   \n",
       "3  Admission Date:  [**2124-7-21**]              ...   \n",
       "4  Admission Date:  [**2162-3-3**]              D...   \n",
       "5  Admission Date:  [**2172-3-5**]              D...   \n",
       "\n",
       "                               TEXT_NORMALIZED_ARRAY  \\\n",
       "1  [admission, date, discharge, date, date, birth...   \n",
       "2  [admission, date, discharge, date, service, ca...   \n",
       "3  [admission, date, discharge, date, service, me...   \n",
       "4  [admission, date, discharge, date, date, birth...   \n",
       "5  [admission, date, discharge, date, date, birth...   \n",
       "\n",
       "                                              LABELS  CONTAINS_ONE_TRUE_CLASS  \\\n",
       "1  [1, 1, 0, 0, 0, 0, 0, 1, 0, 1, 0, 0, 1, 0, 0, ...                     True   \n",
       "2  [1, 1, 0, 1, 0, 0, 0, 1, 0, 0, 1, 0, 1, 1, 0, ...                     True   \n",
       "3  [0, 1, 1, 0, 0, 1, 0, 0, 0, 1, 1, 1, 1, 1, 0, ...                     True   \n",
       "4  [0, 1, 0, 0, 0, 0, 0, 0, 0, 0, 1, 0, 0, 1, 0, ...                     True   \n",
       "5  [0, 0, 0, 1, 0, 0, 0, 0, 0, 0, 0, 0, 0, 0, 0, ...                     True   \n",
       "\n",
       "                              TEXT_NORMALIZED_JOINED  \n",
       "1  admissiondatedischargedatedatebirthsexfservice...  \n",
       "2  admissiondatedischargedateservicecardiothoraci...  \n",
       "3  admissiondatedischargedateservicemedicinealler...  \n",
       "4  admissiondatedischargedatedatebirthsexmservice...  \n",
       "5  admissiondatedischargedatedatebirthsexfservice...  "
      ]
     },
     "execution_count": 64,
     "metadata": {},
     "output_type": "execute_result"
    }
   ],
   "source": [
    "df_notes_true_label = df_notes[df_notes['CONTAINS_ONE_TRUE_CLASS'] == True]\n",
    "df_notes_true_label.head()"
   ]
  },
  {
   "cell_type": "code",
   "execution_count": 66,
   "metadata": {},
   "outputs": [],
   "source": [
    "df_notes_final = df_notes_true_label[['TEXT_NORMALIZED_ARRAY', 'TEXT_NORMALIZED_JOINED', 'LABELS']]"
   ]
  },
  {
   "cell_type": "code",
   "execution_count": 67,
   "metadata": {},
   "outputs": [],
   "source": [
    "df_notes_final.to_csv('../data/processed/NOTEEVENTS_ML_DATASET.csv', encoding='utf-8', quotechar='\"', quoting=csv.QUOTE_ALL, index=False)"
   ]
  },
  {
   "cell_type": "code",
   "execution_count": null,
   "metadata": {},
   "outputs": [],
   "source": []
  }
 ],
 "metadata": {
  "interpreter": {
   "hash": "6231efa94fcc6965469f69099951888d2cda7161d9d213b37b7401168f91864c"
  },
  "kernelspec": {
   "display_name": "Python 3.9.7 64-bit ('3.9.7')",
   "language": "python",
   "name": "python3"
  },
  "language_info": {
   "codemirror_mode": {
    "name": "ipython",
    "version": 3
   },
   "file_extension": ".py",
   "mimetype": "text/x-python",
   "name": "python",
   "nbconvert_exporter": "python",
   "pygments_lexer": "ipython3",
   "version": "3.9.7"
  },
  "orig_nbformat": 4
 },
 "nbformat": 4,
 "nbformat_minor": 2
}
