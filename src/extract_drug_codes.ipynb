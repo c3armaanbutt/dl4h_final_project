{
 "cells": [
  {
   "cell_type": "code",
   "execution_count": null,
   "metadata": {},
   "outputs": [],
   "source": [
    "import pandas as pd\n",
    "import numpy as np\n",
    "import csv\n",
    "import re\n",
    "\n",
    "np.random.seed(500)"
   ]
  },
  {
   "cell_type": "code",
   "execution_count": null,
   "metadata": {},
   "outputs": [],
   "source": [
    "# Data extraction configurations\n",
    "drug_occur_threshold = 20000\n",
    "\n",
    "drug_unknown = 'UNKNOWN'\n",
    "\n",
    "ndc_code_filename = '../data/processed/ndc_codes_extracted.csv'\n",
    "\n",
    "### Threshold, Result Count\n",
    "#   1000, 2229\n",
    "#    500, 2957\n",
    "#    200, 4005\n",
    "#    100, 4777\n",
    "#     50, 5624\n",
    "#     10, 7511\n",
    "#     5, 8148\n",
    "#     2, 8710"
   ]
  },
  {
   "cell_type": "code",
   "execution_count": null,
   "metadata": {},
   "outputs": [],
   "source": [
    "df = pd.read_csv('../data/real-mimic-iii-database/PRESCRIPTIONS.csv', dtype=str)"
   ]
  },
  {
   "cell_type": "code",
   "execution_count": null,
   "metadata": {},
   "outputs": [],
   "source": [
    "df = df[(df['NDC'] != \"0\") & (df['NDC'] != None)]"
   ]
  },
  {
   "cell_type": "code",
   "execution_count": null,
   "metadata": {},
   "outputs": [],
   "source": [
    "df['DRUG_NORMALIZED'] = df['DRUG'].apply(lambda x: re.sub('[^a-z ]+', '', x.lower()).strip())\n",
    "df = df[df['DRUG_NORMALIZED'].str.len() >= 10]"
   ]
  },
  {
   "cell_type": "code",
   "execution_count": null,
   "metadata": {},
   "outputs": [],
   "source": [
    "df_ndc_freq = df[['ROW_ID', 'DRUG_NORMALIZED']].groupby('DRUG_NORMALIZED').count().sort_values('ROW_ID', ascending=False)\n",
    "df_ndc_freq = df_ndc_freq.reset_index()\n",
    "df_ndc_freq.head(20)"
   ]
  },
  {
   "cell_type": "code",
   "execution_count": null,
   "metadata": {},
   "outputs": [],
   "source": [
    "df_ndc_most_freq_drugs = df_ndc_freq[(df_ndc_freq['ROW_ID'] >= drug_occur_threshold)]\n",
    "df_ndc_most_freq_drugs"
   ]
  },
  {
   "cell_type": "code",
   "execution_count": null,
   "metadata": {},
   "outputs": [],
   "source": [
    "most_freq_ndc_drugs = df_ndc_most_freq_drugs['DRUG_NORMALIZED'].to_list()"
   ]
  },
  {
   "cell_type": "code",
   "execution_count": null,
   "metadata": {},
   "outputs": [],
   "source": [
    "df_ndc_most_freq_meta = df[df['DRUG_NORMALIZED'].isin(set(most_freq_ndc_drugs))]\n",
    "df_ndc_most_freq = df_ndc_most_freq_meta[['NDC','DRUG_NORMALIZED']].groupby('DRUG_NORMALIZED').first().reset_index()\n",
    "print(\"length: \", len(df_ndc_most_freq))"
   ]
  },
  {
   "cell_type": "code",
   "execution_count": null,
   "metadata": {},
   "outputs": [],
   "source": [
    "df_ndc_most_freq.to_csv(ndc_code_filename, sep=',', encoding='utf-8', quotechar='\"', quoting=csv.QUOTE_ALL, index=False)"
   ]
  }
 ],
 "metadata": {
  "interpreter": {
   "hash": "6231efa94fcc6965469f69099951888d2cda7161d9d213b37b7401168f91864c"
  },
  "kernelspec": {
   "display_name": "Python 3",
   "language": "python",
   "name": "python3"
  },
  "language_info": {
   "codemirror_mode": {
    "name": "ipython",
    "version": 3
   },
   "file_extension": ".py",
   "mimetype": "text/x-python",
   "name": "python",
   "nbconvert_exporter": "python",
   "pygments_lexer": "ipython3",
   "version": "3.9.7"
  }
 },
 "nbformat": 4,
 "nbformat_minor": 2
}
