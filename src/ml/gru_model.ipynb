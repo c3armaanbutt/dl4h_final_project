{
 "cells": [
  {
   "cell_type": "code",
   "execution_count": 41,
   "id": "5d1510d6",
   "metadata": {},
   "outputs": [],
   "source": [
    "import pandas as pd\n",
    "import numpy as np\n",
    "import json\n",
    "\n",
    "from sklearn.feature_extraction.text import TfidfVectorizer\n",
    "from sklearn.model_selection import train_test_split\n",
    "\n",
    "from sklearn.decomposition import TruncatedSVD\n",
    "\n",
    "from keras.models import Sequential\n",
    "from keras.layers import Dropout\n",
    "from keras.layers import  Dense, Embedding, Bidirectional, GRU\n",
    "\n",
    "import tensorflow as tf\n",
    "\n",
    "import matplotlib.pyplot as plt\n",
    "from matplotlib.ticker import MaxNLocator\n",
    "import statistics\n",
    "import csv\n",
    "\n",
    "np.random.seed(500)"
   ]
  },
  {
   "cell_type": "code",
   "execution_count": 3,
   "id": "1803cc4c",
   "metadata": {},
   "outputs": [],
   "source": [
    "NUMBER_OF_RECORDS = 50000\n",
    "\n",
    "ndc_codes = pd.read_csv('../../data/processed/ndc_codes_extracted.csv', dtype=object)['NDC'].to_list()\n",
    "df = pd.read_csv(\n",
    "    '../../data/processed/NOTEEVENTS_ML_DATASET.csv', dtype=object, nrows=NUMBER_OF_RECORDS)"
   ]
  },
  {
   "cell_type": "code",
   "execution_count": 4,
   "id": "e2dde95e",
   "metadata": {},
   "outputs": [],
   "source": [
    "drug_orders =  list(map(lambda x: \" \".join(eval(x)), df['TEXT_NORMALIZED_ARRAY'].to_list()))[:NUMBER_OF_RECORDS]\n",
    "\n",
    "multi_class_labels = list(map(lambda x: json.loads(x), df['LABELS'].to_list()))[\n",
    "    :NUMBER_OF_RECORDS]\n",
    "\n",
    "y = list(map(lambda x: x[1], multi_class_labels))\n",
    "\n",
    "NUMBER_OF_CLASSES = len(multi_class_labels[0])\n"
   ]
  },
  {
   "cell_type": "code",
   "execution_count": 5,
   "id": "1f95122f",
   "metadata": {},
   "outputs": [
    {
     "name": "stdout",
     "output_type": "stream",
     "text": [
      "TFIDF Shape (50000, 1520311)\n"
     ]
    }
   ],
   "source": [
    "# Vectorize drug_orders\n",
    "vectorizer = TfidfVectorizer(analyzer='word')\n",
    "drug_order_vectors = vectorizer.fit_transform(drug_orders)\n",
    "\n",
    "print(\"TFIDF Shape\", drug_order_vectors.shape)"
   ]
  },
  {
   "cell_type": "code",
   "execution_count": 6,
   "id": "54348451",
   "metadata": {},
   "outputs": [
    {
     "name": "stdout",
     "output_type": "stream",
     "text": [
      "TSVD Shape (50000, 20)\n"
     ]
    }
   ],
   "source": [
    "NUMBER_OF_FEATURES = 20\n",
    "\n",
    "pca = TruncatedSVD(n_components=NUMBER_OF_FEATURES)\n",
    "result = pca.fit_transform(drug_order_vectors)\n",
    "\n",
    "print(\"TSVD Shape\", result.shape)"
   ]
  },
  {
   "cell_type": "code",
   "execution_count": 13,
   "id": "3452691e",
   "metadata": {},
   "outputs": [],
   "source": [
    "x_train, x_test, y_train, y_test = train_test_split(\n",
    "        result, y, test_size=0.2, random_state=100)\n",
    "y_test = np.array(y_test)\n",
    "y_train = np.array(y_train)"
   ]
  },
  {
   "cell_type": "code",
   "execution_count": 14,
   "id": "a80cca22",
   "metadata": {},
   "outputs": [],
   "source": [
    "hidden_state_dimensions = [32, 64, 128]\n",
    "n_unique_words = 200\n",
    "\n",
    "history_array = []\n",
    "\n",
    "def train_model(hidden_state, batch_size=32, epoch=3):\n",
    "    model = Sequential()\n",
    "    model.add(Embedding(n_unique_words, 128, input_length=NUMBER_OF_FEATURES))\n",
    "    model.add(Bidirectional(GRU(hidden_state)))\n",
    "    model.add(Dropout(0.5))\n",
    "    model.add(Dense(1, activation=tf.nn.tanh))\n",
    "    model.compile(loss='binary_crossentropy', optimizer='adam', metrics=['accuracy'])\n",
    "    history=model.fit(x_train, y_train,\n",
    "           batch_size=32,\n",
    "           epochs=3,\n",
    "           validation_data=[x_test, y_test])\n",
    "    print(history.history['loss'])\n",
    "    print(history.history['accuracy'])\n",
    "\n",
    "    return history"
   ]
  },
  {
   "cell_type": "code",
   "execution_count": 15,
   "id": "18b153e6",
   "metadata": {},
   "outputs": [
    {
     "name": "stdout",
     "output_type": "stream",
     "text": [
      "Epoch 1/3\n",
      "1250/1250 [==============================] - 11s 7ms/step - loss: 0.5702 - accuracy: 0.7542 - val_loss: 0.5551 - val_accuracy: 0.7569\n",
      "Epoch 2/3\n",
      "1250/1250 [==============================] - 8s 6ms/step - loss: 0.5620 - accuracy: 0.7545 - val_loss: 0.5547 - val_accuracy: 0.7569\n",
      "Epoch 3/3\n",
      "1250/1250 [==============================] - 8s 6ms/step - loss: 0.5610 - accuracy: 0.7545 - val_loss: 0.5548 - val_accuracy: 0.7569\n",
      "[0.5701519250869751, 0.5619621872901917, 0.5609740018844604]\n",
      "[0.7542499899864197, 0.7545250058174133, 0.7545250058174133]\n",
      "Epoch 1/3\n",
      "1250/1250 [==============================] - 18s 13ms/step - loss: 0.5655 - accuracy: 0.7543 - val_loss: 0.5552 - val_accuracy: 0.7569\n",
      "Epoch 2/3\n",
      "1250/1250 [==============================] - 13s 10ms/step - loss: 0.5611 - accuracy: 0.7545 - val_loss: 0.5550 - val_accuracy: 0.7569\n",
      "Epoch 3/3\n",
      "1250/1250 [==============================] - 12s 10ms/step - loss: 0.5601 - accuracy: 0.7545 - val_loss: 0.5552 - val_accuracy: 0.7569\n",
      "[0.565514326095581, 0.5611171722412109, 0.5600663423538208]\n",
      "[0.7543249726295471, 0.7545250058174133, 0.7545250058174133]\n",
      "Epoch 1/3\n",
      "1250/1250 [==============================] - 29s 22ms/step - loss: 0.5655 - accuracy: 0.7542 - val_loss: 0.5552 - val_accuracy: 0.7569\n",
      "Epoch 2/3\n",
      "1250/1250 [==============================] - 30s 24ms/step - loss: 0.5616 - accuracy: 0.7545 - val_loss: 0.5569 - val_accuracy: 0.7569\n",
      "Epoch 3/3\n",
      "1250/1250 [==============================] - 31s 25ms/step - loss: 0.5609 - accuracy: 0.7545 - val_loss: 0.5577 - val_accuracy: 0.7569\n",
      "[0.5654724836349487, 0.5615559220314026, 0.5608938336372375]\n",
      "[0.7541750073432922, 0.7545250058174133, 0.7545250058174133]\n"
     ]
    }
   ],
   "source": [
    "for hidden_state in hidden_state_dimensions:\n",
    "    history_array.append(train_model(hidden_state=hidden_state))"
   ]
  },
  {
   "cell_type": "code",
   "execution_count": 49,
   "id": "332b3baa",
   "metadata": {},
   "outputs": [
    {
     "data": {
      "image/png": "[encoded data removed]",
      "text/plain": [
       "<Figure size 432x288 with 1 Axes>"
      ]
     },
     "metadata": {
      "needs_background": "light"
     },
     "output_type": "display_data"
    }
   ],
   "source": [
    "plt.title('Accuracy of GRU RNN')\n",
    "plt.xlabel(\"Number of Epochs\")\n",
    "plt.ylabel(\"Accuracy\")\n",
    "\n",
    "plt.xticks([0, 1, 2])\n",
    "\n",
    "for i in range(len(history_array)):\n",
    "    history = history_array[i]\n",
    "\n",
    "    plt.plot(history.history['accuracy'], label='train GRU - ' + str(hidden_state_dimensions[i]))\n",
    "    plt.plot(history.history['val_accuracy'], label='test GRU - ' + str(hidden_state_dimensions[i]))\n",
    "    \n",
    "plt.legend()\n",
    "plt.show();\n"
   ]
  },
  {
   "cell_type": "code",
   "execution_count": 50,
   "id": "754d9403",
   "metadata": {},
   "outputs": [
    {
     "data": {
      "image/png": "[encoded data removed]",
      "text/plain": [
       "<Figure size 432x288 with 1 Axes>"
      ]
     },
     "metadata": {
      "needs_background": "light"
     },
     "output_type": "display_data"
    }
   ],
   "source": [
    "plt.title('Loss of GRU RNN')\n",
    "plt.xlabel(\"Number of Epochs\")\n",
    "plt.ylabel(\"Loss\")\n",
    "\n",
    "plt.xticks([0, 1, 2])\n",
    "\n",
    "for i in range(len(history_array)):\n",
    "    history = history_array[i]\n",
    "\n",
    "    plt.plot(history.history['loss'], label='train GRU - ' + str(hidden_state_dimensions[i]))\n",
    "    plt.plot(history.history['val_loss'], label='test GRU - ' + str(hidden_state_dimensions[i]))\n",
    "\n",
    "plt.legend()\n",
    "plt.show();"
   ]
  },
  {
   "cell_type": "code",
   "execution_count": 34,
   "id": "ebac09b0",
   "metadata": {},
   "outputs": [],
   "source": [
    "history_data_array = []\n",
    "for i in range(len(history_array)):\n",
    "    history = history_array[i]\n",
    "\n",
    "    history_data = {'Model': 'Bidirectional GRU', 'Hidden State Size': hidden_state_dimensions[\n",
    "        i], 'Number of Epochs': 3}\n",
    "\n",
    "    history_data['Mean Training Accuracy (%)'] =  round(statistics.mean(history.history['accuracy']) * 100, 2)\n",
    "    history_data['Mean Test Accuracy (%)'] = round(statistics.mean(history.history['val_accuracy']) * 100, 2)\n",
    "    history_data['Mean Training Loss (%)'] = round(statistics.mean(history.history['loss']) * 100, 2)\n",
    "    history_data['Mean Test Loss (%)'] = round(statistics.mean(history.history['val_loss']) * 100, 2)\n",
    "\n",
    "    history_data_array.append(history_data)\n",
    "             \n"
   ]
  },
  {
   "cell_type": "code",
   "execution_count": 38,
   "id": "e2ff0348",
   "metadata": {},
   "outputs": [],
   "source": [
    "df_results = pd.DataFrame(history_data_array)\n",
    "df_results.to_csv('../../data/results/GRU_RESULTS.csv', encoding='utf-8', quotechar='\"', quoting=csv.QUOTE_ALL, index=False)"
   ]
  },
  {
   "cell_type": "code",
   "execution_count": null,
   "id": "02e2d9f7",
   "metadata": {},
   "outputs": [],
   "source": []
  }
 ],
 "metadata": {
  "interpreter": {
   "hash": "6231efa94fcc6965469f69099951888d2cda7161d9d213b37b7401168f91864c"
  },
  "kernelspec": {
   "display_name": "Python 3.9.7 64-bit ('3.9.7')",
   "language": "python",
   "name": "python3"
  },
  "language_info": {
   "codemirror_mode": {
    "name": "ipython",
    "version": 3
   },
   "file_extension": ".py",
   "mimetype": "text/x-python",
   "name": "python",
   "nbconvert_exporter": "python",
   "pygments_lexer": "ipython3",
   "version": "3.9.7"
  }
 },
 "nbformat": 4,
 "nbformat_minor": 5
}
