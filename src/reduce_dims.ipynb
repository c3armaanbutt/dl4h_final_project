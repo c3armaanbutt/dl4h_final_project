{
 "cells": [
  {
   "cell_type": "code",
   "execution_count": 6,
   "id": "5d1510d6",
   "metadata": {},
   "outputs": [],
   "source": [
    "import pandas as pd\n",
    "import numpy as np\n",
    "import json\n",
    "import csv\n",
    "\n",
    "from sklearn.feature_extraction.text import TfidfVectorizer\n",
    "from sklearn.model_selection import train_test_split\n",
    "from sklearn.svm import LinearSVC\n",
    "from sklearn import metrics\n",
    "\n",
    "np.random.seed(500)"
   ]
  },
  {
   "cell_type": "code",
   "execution_count": 4,
   "id": "1803cc4c",
   "metadata": {},
   "outputs": [],
   "source": [
    "ndc_codes = pd.read_csv('../data/processed/ndc_codes_extracted.csv', dtype=object)['NDC'].to_list()\n",
    "df = pd.read_csv(\n",
    "    '../data/processed/NOTEEVENTS_ML_DATASET.csv', dtype=object)"
   ]
  },
  {
   "cell_type": "code",
   "execution_count": 3,
   "id": "4302d9e6",
   "metadata": {},
   "outputs": [],
   "source": []
  },
  {
   "cell_type": "code",
   "execution_count": 7,
   "id": "e2dde95e",
   "metadata": {},
   "outputs": [],
   "source": [
    "NUMBER_OF_RECORDS = 40000\n",
    "\n",
    "drug_orders = df['TEXT_NORMALIZED_JOINED'].to_list()[:NUMBER_OF_RECORDS]\n",
    "multi_class_labels = list(map(lambda x: json.loads(x), df['LABELS'].to_list()))[\n",
    "    :NUMBER_OF_RECORDS]\n",
    "\n",
    "NUMBER_OF_CLASSES = len(multi_class_labels[0])\n",
    "\n",
    "# Vectorize drug_orders\n",
    "vectorizer = TfidfVectorizer(ngram_range=(3, 3), analyzer='char')\n",
    "drug_order_vectors = vectorizer.fit_transform(drug_orders)\n",
    "\n",
    "print(\"TFIDF Shape\", drug_order_vectors.shape)"
   ]
  },
  {
   "cell_type": "code",
   "execution_count": 9,
   "id": "4821053b",
   "metadata": {},
   "outputs": [
    {
     "name": "stdout",
     "output_type": "stream",
     "text": [
      "PCA Shape (40000, 22)\n"
     ]
    }
   ],
   "source": [
    "import numpy as np\n",
    "from sklearn.decomposition import PCA, TruncatedSVD\n",
    "\n",
    "pca = TruncatedSVD(n_components=NUMBER_OF_CLASSES)\n",
    "result = pca.fit_transform(drug_order_vectors)\n",
    "\n",
    "print(\"TSVD Shape\", result.shape)"
   ]
  },
  {
   "cell_type": "code",
   "execution_count": 15,
   "id": "f38bc50f",
   "metadata": {},
   "outputs": [
    {
     "data": {
      "text/plain": [
       "22"
      ]
     },
     "execution_count": 15,
     "metadata": {},
     "output_type": "execute_result"
    }
   ],
   "source": [
    "NUMBER_OF_CLASSES"
   ]
  },
  {
   "cell_type": "code",
   "execution_count": 11,
   "id": "d8738cfc",
   "metadata": {},
   "outputs": [
    {
     "name": "stdout",
     "output_type": "stream",
     "text": [
      "Before PCA:  56\n",
      "After PCA:  7040112\n"
     ]
    }
   ],
   "source": [
    "import sys\n",
    "\n",
    "print(\"Before TSVD: \", sys.getsizeof(drug_order_vectors))\n",
    "\n",
    "print(\"After TSVD: \", sys.getsizeof(result))"
   ]
  },
  {
   "cell_type": "code",
   "execution_count": 14,
   "id": "48fc4b66",
   "metadata": {},
   "outputs": [],
   "source": [
    "\n",
    "np.savetxt('C:/Users/harim/OneDrive/Documents/GitHub/dl4h_final_project_1/data/processed/temp.csv', result, delimiter=\",\")"
   ]
  },
  {
   "cell_type": "code",
   "execution_count": null,
   "id": "6987c179",
   "metadata": {},
   "outputs": [],
   "source": []
  }
 ],
 "metadata": {
  "kernelspec": {
   "display_name": "Python 3",
   "language": "python",
   "name": "python3"
  },
  "language_info": {
   "codemirror_mode": {
    "name": "ipython",
    "version": 3
   },
   "file_extension": ".py",
   "mimetype": "text/x-python",
   "name": "python",
   "nbconvert_exporter": "python",
   "pygments_lexer": "ipython3",
   "version": "3.6.2"
  }
 },
 "nbformat": 4,
 "nbformat_minor": 5
}
