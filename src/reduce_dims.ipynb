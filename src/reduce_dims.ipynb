{
 "cells": [
  {
   "cell_type": "code",
   "execution_count": 6,
   "id": "5e32eb30",
   "metadata": {},
   "outputs": [],
   "source": [
    "import pandas as pd\n",
    "import numpy as np\n",
    "import json\n",
    "import csv\n",
    "\n",
    "from sklearn.feature_extraction.text import TfidfVectorizer\n",
    "from sklearn.model_selection import train_test_split\n",
    "from sklearn.svm import LinearSVC\n",
    "from sklearn import metrics\n",
    "\n",
    "np.random.seed(500)"
   ]
  },
  {
   "cell_type": "code",
   "execution_count": 4,
   "id": "49f298db",
   "metadata": {},
   "outputs": [],
   "source": [
    "ndc_codes = pd.read_csv('../data/processed/ndc_codes_extracted.csv', dtype=object)['NDC'].to_list()\n",
    "df = pd.read_csv(\n",
    "    '../data/processed/NOTEEVENTS_ML_DATASET.csv', dtype=object)"
   ]
  },
  {
   "cell_type": "code",
   "execution_count": 3,
   "id": "f758b845",
   "metadata": {},
   "outputs": [],
   "source": []
  },
  {
   "cell_type": "code",
   "execution_count": 7,
   "id": "1de5a010",
   "metadata": {},
   "outputs": [],
   "source": [
    "NUMBER_OF_RECORDS = 40000\n",
    "\n",
    "drug_orders = df['TEXT_NORMALIZED_JOINED'].to_list()[:NUMBER_OF_RECORDS]\n",
    "multi_class_labels = list(map(lambda x: json.loads(x), df['LABELS'].to_list()))[\n",
    "    :NUMBER_OF_RECORDS]\n",
    "\n",
    "NUMBER_OF_CLASSES = len(multi_class_labels[0])\n",
    "\n",
    "# Vectorize drug_orders\n",
    "vectorizer = TfidfVectorizer(ngram_range=(3, 3), analyzer='char')\n",
    "drug_order_vectors = vectorizer.fit_transform(drug_orders)\n",
    "\n",
    "print(\"TFIDF Shape\", drug_order_vectors.shape)"
   ]
  },
  {
   "cell_type": "code",
   "execution_count": 9,
   "id": "a6da4182",
   "metadata": {},
   "outputs": [
    {
     "name": "stdout",
     "output_type": "stream",
     "text": [
      "PCA Shape (40000, 22)\n"
     ]
    }
   ],
   "source": [
    "import numpy as np\n",
    "from sklearn.decomposition import PCA, TruncatedSVD\n",
    "\n",
    "pca = TruncatedSVD(n_components=NUMBER_OF_CLASSES)\n",
    "result = pca.fit_transform(drug_order_vectors)\n",
    "\n",
    "print(\"PCA Shape\", result.shape)"
   ]
  },
  {
   "cell_type": "code",
   "execution_count": 11,
   "id": "934e3b40",
   "metadata": {},
   "outputs": [
    {
     "name": "stdout",
     "output_type": "stream",
     "text": [
      "Before PCA:  56\n",
      "After PCA:  7040112\n"
     ]
    }
   ],
   "source": [
    "import sys\n",
    "\n",
    "print(\"Before PCA: \", sys.getsizeof(drug_order_vectors))\n",
    "\n",
    "print(\"After PCA: \", sys.getsizeof(result))"
   ]
  },
  {
   "cell_type": "code",
   "execution_count": 14,
   "id": "6c9aefe0",
   "metadata": {},
   "outputs": [],
   "source": [
    "\n",
    "np.savetxt('C:/Users/harim/OneDrive/Documents/GitHub/dl4h_final_project_1/data/processed/temp.csv', result, delimiter=\",\")"
   ]
  },
  {
   "cell_type": "code",
   "execution_count": null,
   "id": "828c306a",
   "metadata": {},
   "outputs": [],
   "source": []
  }
 ],
 "metadata": {
  "kernelspec": {
   "display_name": "Python 3",
   "language": "python",
   "name": "python3"
  },
  "language_info": {
   "codemirror_mode": {
    "name": "ipython",
    "version": 3
   },
   "file_extension": ".py",
   "mimetype": "text/x-python",
   "name": "python",
   "nbconvert_exporter": "python",
   "pygments_lexer": "ipython3",
   "version": "3.6.2"
  }
 },
 "nbformat": 4,
 "nbformat_minor": 5
}
